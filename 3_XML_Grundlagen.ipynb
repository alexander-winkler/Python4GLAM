{
 "cells": [
  {
   "cell_type": "markdown",
   "id": "ce674186",
   "metadata": {},
   "source": [
    "# XML\n",
    "\n",
    "## Allgemeines zur Extendable Markup Language (XML)\n",
    "\n",
    "XML ist eine Markup-Sprache, mit der Informationen strukturiert werden können.\n",
    "Wesentliches Element sind die charakteristischen XML-Tags in spitzen Klammern.\n",
    "\n",
    "### Bäume, Tags und Knoten vollen Text\n",
    "\n",
    "Die Tags treten i.d.R. paarweise auf, auf einen öffnenden Tag (z.B. `<beispieltag>`) folgt ein schließender Tag (`</beispieltag>`).\n",
    "Tags können verschachtelt werden und ergeben eine Art von Baumstruktur, z.B.:\n",
    "\n",
    "```xml\n",
    "<actor>\n",
    "    <actorID>http://d-nb.info/gnd/118585231</actorID>\n",
    "    <nameActorSet>\n",
    "        <appellationValue>Müller, Victor</appellationValue>\n",
    "    </nameActorSet>\n",
    "    <vitalDatesActor>\n",
    "        <earliestDate>1830</earliestDate>\n",
    "        <latestDate>1871</latestDate>\n",
    "    </vitalDatesActor>\n",
    "</actor>\n",
    "```\n",
    "\n",
    "In diesem Beispiel werden textuelle Informationen durch tags strukturiert.\n",
    "Der sog. Wurzelknoten ist `<actor>`.\n",
    "Er verfügt über mehrere Kind-Knoten (`<actorID>`, `<nameAcotr Set>`, `vitalDatesActor>`).\n",
    "Knoten können entweder andere Knoten oder Text.\n",
    "Der Knoten `<appellationValue>` enthält z.B. den Text \"Müller, Victor\".\n",
    "\n",
    "\n",
    "### Attribute\n",
    "\n",
    "XML-Tags können um Attribute ergänzt werden.\n",
    "\n",
    "```xml\n",
    "<actor type=\"http://terminology.lido-schema.org/actor_type/person\">\n",
    "    <actorID type=\"http://terminology.lido-schema.org/identifier_type/uri\" source=\"http://d-nb.info/\" pref=\"preferred\">http://d-nb.info/gnd/118585231</actorID>\n",
    "    <nameActorSet>\n",
    "        <appellationValue lang=\"de\">Müller, Victor</appellationValue>\n",
    "    </nameActorSet>\n",
    "    <vitalDatesActor>\n",
    "        <earliestDate type=\"birthDate\">1830</earliestDate>\n",
    "        <latestDate type=\"deathDate\">1871</latestDate>\n",
    "    </vitalDatesActor>\n",
    "</actor>\n",
    "```\n",
    "\n",
    "Attribute bestehen aus einem Namen (z.B. `type`) und einem Wert (z.B. `http://terminology.lido-schema.org/actor_type/person`).\n",
    "Attribute können Tag genauer charakterisieren.\n",
    "So gibt bspw. das Attribut `lang=\"de\"` an, dass der Text des `<appellationValue>` deutsch ist.\n",
    "\n",
    "Die erlaubten Attribute werden im jeweiligen XML-Schema beschrieben ([dazu später mehr](#XML-Schema)).\n",
    "\n",
    "### Namensräume\n",
    "\n",
    "XML-Dateien arbeiten in aller Regel mit sog. Namensräumen.\n",
    "In komplexen Dateien oder bei Daten aus unterschieldichen Quellen kann nicht ausgeschlossen werden, dass z.B: ein Tag wie `<actor>` für verschiedene Dinge verwendet wird.\n",
    "Um durchgehend Eindeutigkeit zu garantieren, werden Tags mit Namensräumen versehen, d.h. ihnen wird ein URI als Präfix vorangestellt.\n",
    "Elemente aus dem LIDO-Schema erhalten z.B. das Präfix `http://www.lido-schema.org`.\n",
    "Während `<actor>` potenziell mehrdeutig sein kann, ist `<{http://www.lido-schema.org}actor>` eindeutig als `<actor>` aus dem LIDO-Schema ausgezeichnet.\n",
    "\n",
    "Die Präfixe werden im Wurzel- oder ein einem Vorfahrenknoten Präfixe definiert.\n",
    "Bei LIDO geschieht dies für gewöhnlich im `<lidoWrap>`-Element.\n",
    "\n",
    "```xml\n",
    "<lido:lidoWrap xmlns:lido=\"http://www.lido-schema.org\">\n",
    "...\n",
    "</lido:lidoWrap>\n",
    "```\n",
    "\n",
    "Das Präfix `xml:`, das mit dem Namensraum `http://www.w3.org/XML/1998/namespace` verbunden ist und im Beispiel beim Attribut `xml:lang` zu finden ist, steht in einer XML standardmäßig zur Verfügung und braucht nicht eigens deklariert zu werden.\n",
    "\n",
    "\n",
    "```xml\n",
    "<lido:actor lido:type=\"http://terminology.lido-schema.org/actor_type/person\">\n",
    "    <lido:actorID lido:type=\"http://terminology.lido-schema.org/identifier_type/uri\" lido:source=\"http://d-nb.info/\" lido:pref=\"preferred\">http://d-nb.info/gnd/118585231</lido:actorID>\n",
    "    <lido:nameActorSet>\n",
    "        <lido:appellationValue xml:lang=\"de\">Müller, Victor</lido:appellationValue>\n",
    "    </lido:nameActorSet>\n",
    "    <lido:vitalDatesActor>\n",
    "        <lido:earliestDate lido:type=\"birthDate\">1830</lido:earliestDate>\n",
    "        <lido:latestDate lido:type=\"deathDate\">1871</lido:latestDate>\n",
    "    </lido:vitalDatesActor>\n",
    "</lido:actor>\n",
    "```"
   ]
  },
  {
   "cell_type": "markdown",
   "id": "c89190e4",
   "metadata": {},
   "source": [
    "## XML mit Python parsen\n",
    "\n",
    "In Python steht zur Arbeit mit XML-Dateien z.B. das [Modul lxml.etree](https://lxml.de/tutorial.html) zur Verfügung.\n",
    "\n",
    "Wir importieren zunächst `lxml.etree`:"
   ]
  },
  {
   "cell_type": "code",
   "execution_count": null,
   "id": "7b5dda4b",
   "metadata": {},
   "outputs": [],
   "source": [
    "from lxml import etree"
   ]
  },
  {
   "cell_type": "markdown",
   "id": "1844a73f",
   "metadata": {},
   "source": [
    "Zum Parsen einer Datei stellt `lxml.etree` die Methode [`.parse()`](https://lxml.de/tutorial.html#the-parse-function) zur Verfügung."
   ]
  },
  {
   "cell_type": "code",
   "execution_count": null,
   "id": "2f0d54b5",
   "metadata": {},
   "outputs": [],
   "source": [
    "tree = etree.parse(\"data/staedel/records.xml\")"
   ]
  },
  {
   "cell_type": "markdown",
   "id": "6b0e3b5d",
   "metadata": {},
   "source": [
    "Die Variable `tree` enthält nur eine geparste Repräsentation der XML-Datei (als [`_ElementTree`-Objekt](https://lxml.de/3.1/api/private/lxml.etree._ElementTree-class.html)).\n",
    "\n",
    "Ein `_ElementTree`-Objekt verfügt z.B. über die Methode `.iter()`, die Elemente des XML-Baums (z.B. mit einer `for`-Schleife) iterierbar macht."
   ]
  },
  {
   "cell_type": "code",
   "execution_count": null,
   "id": "1e317df9",
   "metadata": {},
   "outputs": [],
   "source": [
    "for i in tree.iter():\n",
    "    print(i)"
   ]
  },
  {
   "cell_type": "markdown",
   "id": "739f5871",
   "metadata": {},
   "source": [
    "Die einzelnen Elemente (der Klasse `_Element`) haben wiederum einige nützliche Methoden.\n",
    "\n",
    "- `.tag` gibt den Namen des Knotens aus\n",
    "- `.attrib` gibt die Attribute des Elements als Dictionary aus"
   ]
  },
  {
   "cell_type": "markdown",
   "id": "bbdd4f3f",
   "metadata": {},
   "source": [
    "Modifizieren Sie die obige `for`-Schleife und lassen Sie sich z.B. die Knotennamen und Attribute ausgeben."
   ]
  },
  {
   "cell_type": "code",
   "execution_count": null,
   "id": "98e4d211",
   "metadata": {},
   "outputs": [],
   "source": [
    "for i in tree.iter():\n",
    "    print(tree.getpath(i))"
   ]
  },
  {
   "cell_type": "code",
   "execution_count": null,
   "id": "7737ed76",
   "metadata": {},
   "outputs": [],
   "source": []
  },
  {
   "cell_type": "markdown",
   "id": "f127d137",
   "metadata": {},
   "source": [
    "## XPath\n",
    "\n",
    "Ehe wir die interessanteren Funktionen von `lxml.etree` nutzen zu können, müssen wir einen Blick auf [XPath](https://lxml.de/xpathxslt.html) werfen.\n",
    "\n",
    "XPath ist eine Abfragesprache für XML-Dateien, mit der bestimmte Knoten, Knotengruppen und andere Elemente eines XML-Objekts ausgewählt werden können.\n",
    "\n",
    "XPath stellt zur Beschreibung der Baumstruktur eine Syntax zur Verfügung, die an die Darstellung von Dateipfaden (insbesondere auf UNIX-Systemen) oder auch URLs erinnert.\n",
    "\n",
    "`_ElementTree` hat eine `.getpath()`-Methode, die den XPAth-Pfad eines Objekts in einem XML-Baum ausgibt.\n",
    "Der folgende Code-Schnipsel gibt also für jedes Element unseres XML-Objekts `tree` den XPath-Pfad aus, gewissermaßen die Adresse des Elements, das dessen genaue Verortung im Baum ermöglicht."
   ]
  },
  {
   "cell_type": "code",
   "execution_count": null,
   "id": "fccdf116",
   "metadata": {},
   "outputs": [],
   "source": [
    "for i in tree.iter():\n",
    "    print(tree.getpath(i))"
   ]
  },
  {
   "cell_type": "markdown",
   "id": "968491cc",
   "metadata": {},
   "source": [
    "Mit Hilfe der Adresse kann ein Knoten des Baums ausgewählt werden. Hierfür steht u.a. die Methode `.xpath()` zur Verfügung.\n",
    "Verwenden wir eine XPath-Adresse in der `.xpath()`-Methode, erhalten wir die eine Liste aller Elemente zurück, auf die die Adresse passt.\n",
    "\n",
    "Beachten Sie, dass die `.xpath()`-Methode die Namespace-Präfixe des XPath-Pfads nicht kennt, sie müssten eigens (in Form eines Dictionarys) angegeben werden."
   ]
  },
  {
   "cell_type": "code",
   "execution_count": null,
   "id": "28259c5d",
   "metadata": {},
   "outputs": [],
   "source": [
    "tree.xpath(\"/*/*[3]/*[36]/*[2]/lido:lidoWrap/lido:lido/lido:descriptiveMetadata/lido:objectIdentificationWrap/lido:repositoryWrap/lido:repositorySet/lido:repositoryLocation/lido:placeID\", namespaces = {'lido' : 'http://www.lido-schema.org'})"
   ]
  },
  {
   "cell_type": "markdown",
   "id": "f0c40814",
   "metadata": {},
   "source": [
    "Da die Adresse auf genau ein Objekt referenziert, enthält die Liste genau ein Objekt.\n",
    "Löschen wir jedoch z.B. die numerischen Indizes aus dem Pfad, erhöht sich die Treffermenge."
   ]
  },
  {
   "cell_type": "code",
   "execution_count": null,
   "id": "5a89fdc3",
   "metadata": {},
   "outputs": [],
   "source": [
    "tree.xpath(\"/*/*/*/*/lido:lidoWrap/lido:lido/lido:descriptiveMetadata/lido:objectIdentificationWrap/lido:repositoryWrap/lido:repositorySet/lido:repositoryLocation/lido:placeID\", namespaces = {'lido' : 'http://www.lido-schema.org'})"
   ]
  },
  {
   "cell_type": "markdown",
   "id": "254bf405",
   "metadata": {},
   "source": [
    "Die [XPath-Syntax](https://www.w3schools.com/xml/xpath_syntax.asp) sieht zahlreiche Platzhalter vor.\n",
    "\n",
    "Einige Beispiele:\n",
    "\n",
    "- `//tagname`: Wählt alle `tagname`-Knoten an einer beliebigen Position im XML-Baum aus\n",
    "- `vorfahre//tagname`: Wählt alle `tagname`-Knoten aus, die dem `vorfahre`-Knoten untergeordnet sind\n",
    "- `//@xml:lang`: gibt Werte aller `xml:lang`-Attribute aus\n",
    "- `//*[@xml:lang]`: gibt alle Knoten mit einem `xml:lang`-Attribut aus\n",
    "- `//*[@xml:lang=\"en\"]`: gibt alle Knoten aus, deren `xml:lang`-Attribut den Wert `\"en\"` hat\n",
    "- mit `..` geht man einen Schritt nach oben in der XML-Hierarchie. `//lido:appellationValue/..` gibt also die Elemente zurück, die einen `lido:appellationValue`-Knoten enthalten.\n",
    "- `//tagname/text()`: gibt den Textinhalt des `tagname`-Knotens zurück\n",
    "\n",
    "Anregungen zum Herumspielen:\n",
    "\n",
    "1. ...\n",
    "2. ..."
   ]
  },
  {
   "cell_type": "code",
   "execution_count": null,
   "id": "cf902cff",
   "metadata": {},
   "outputs": [],
   "source": [
    "XPATH = \"\" # <-hier den XPATH-Ausdruck eingeben\n",
    "tree.xpath(XPATH, namespaces = {'lido' : 'http://www.lido-schema.org'})"
   ]
  },
  {
   "cell_type": "code",
   "execution_count": null,
   "id": "c4d5cf9e",
   "metadata": {},
   "outputs": [],
   "source": []
  }
 ],
 "metadata": {
  "kernelspec": {
   "display_name": "Python 3.9",
   "language": "python",
   "name": "python3.9"
  },
  "language_info": {
   "codemirror_mode": {
    "name": "ipython",
    "version": 3
   },
   "file_extension": ".py",
   "mimetype": "text/x-python",
   "name": "python",
   "nbconvert_exporter": "python",
   "pygments_lexer": "ipython3",
   "version": "3.9.0"
  }
 },
 "nbformat": 4,
 "nbformat_minor": 5
}
