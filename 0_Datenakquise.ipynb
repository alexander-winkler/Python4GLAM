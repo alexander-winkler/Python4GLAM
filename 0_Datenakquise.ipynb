{
 "cells": [
  {
   "cell_type": "markdown",
   "id": "a97cd363",
   "metadata": {},
   "source": [
    "# Datenakquise\n",
    "\n",
    "\n",
    "Für die folgenden Analysen werden offene Kulturdaten aus verschiedenen Quellen verwendet.\n",
    "Im Folgenden wird der für die Akquise verwendete Code präsentiert und knapp kommentiert.\n",
    "\n",
    "Die Interaktion mit GLAM-APIs ist Gegenstand eines [eigenen Notebooks](#)."
   ]
  },
  {
   "cell_type": "code",
   "execution_count": 18,
   "id": "c913a51c",
   "metadata": {},
   "outputs": [],
   "source": [
    "import requests"
   ]
  },
  {
   "cell_type": "markdown",
   "id": "9d85ebe0",
   "metadata": {},
   "source": [
    "## Städel Museum – Digitale Sammlung\n",
    "\n",
    "Erläuterungen zur OAI-Schnittstelle [hier](https://sammlung.staedelmuseum.de/de/oai/guide)."
   ]
  },
  {
   "cell_type": "code",
   "execution_count": 19,
   "id": "9848ec35",
   "metadata": {},
   "outputs": [],
   "source": [
    "res = requests.get(\"https://sammlung.staedelmuseum.de/api/oai?verb=ListRecords&metadataPrefix=lido\")"
   ]
  },
  {
   "cell_type": "code",
   "execution_count": 17,
   "id": "b74422de",
   "metadata": {},
   "outputs": [],
   "source": [
    "with open(\"data/staedel/records.xml\", 'wb') as OUT:\n",
    "    OUT.write(res.content)"
   ]
  }
 ],
 "metadata": {
  "kernelspec": {
   "display_name": "Python 3.9",
   "language": "python",
   "name": "python3.9"
  },
  "language_info": {
   "codemirror_mode": {
    "name": "ipython",
    "version": 3
   },
   "file_extension": ".py",
   "mimetype": "text/x-python",
   "name": "python",
   "nbconvert_exporter": "python",
   "pygments_lexer": "ipython3",
   "version": "3.9.0"
  }
 },
 "nbformat": 4,
 "nbformat_minor": 5
}
