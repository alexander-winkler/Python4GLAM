{
 "cells": [
  {
   "cell_type": "markdown",
   "id": "f4a992eb",
   "metadata": {},
   "source": [
    "# Quantitative Analyse von XML-Daten\n",
    "\n",
    "Nun sollen einige quantative Analyse von XML-Daten präsentiert werden.\n",
    "\n",
    "## Zählen mit Python\n",
    "\n",
    "Eine Möglichkeit, in Python zu zählen bietet eine schlichte Zählvariable.\n",
    "Möchte man z.B. die verschiedenen Werte von Sprachattributen (`xml:lang`) zählen, ließe sich das auf folgende Weise gestalten:"
   ]
  },
  {
   "cell_type": "code",
   "execution_count": null,
   "id": "6958d5c4",
   "metadata": {},
   "outputs": [],
   "source": [
    "from lxml import etree\n",
    "tree = etree.parse(\"data/staedel/records.xml\")"
   ]
  },
  {
   "cell_type": "code",
   "execution_count": null,
   "id": "f9d5a639",
   "metadata": {},
   "outputs": [],
   "source": [
    "sprachtags = tree.xpath('//@xml:lang', namespaces = {'lido' : 'http://www.lido-schema.org'})"
   ]
  },
  {
   "cell_type": "code",
   "execution_count": null,
   "id": "d33bb9fe",
   "metadata": {},
   "outputs": [],
   "source": [
    "zahlDE = 0\n",
    "zahlEN = 0\n",
    "\n",
    "for elem in sprachtags:\n",
    "    if elem == \"de\":\n",
    "        zahlDE = zahlDE + 1\n",
    "    if elem == \"en\":\n",
    "        zahlEN = zahlEN + 1\n",
    "        \n",
    "print(\"Zahl deutsch: \", zahlDE)\n",
    "print(\"Zahl englisch: \", zahlEN)"
   ]
  },
  {
   "cell_type": "markdown",
   "id": "956b9840",
   "metadata": {},
   "source": [
    "Die [Counter-Funktion](https://docs.python.org/3/library/collections.html#collections.Counter) aus dem collecionts-Modul bietet einen bequemeren Weg für solche Auszählungen.\n",
    "\n",
    "`Counter()` kann die Elemente einer Liste zählen."
   ]
  },
  {
   "cell_type": "code",
   "execution_count": null,
   "id": "afa135e6",
   "metadata": {},
   "outputs": [],
   "source": [
    "from collections import Counter"
   ]
  },
  {
   "cell_type": "code",
   "execution_count": null,
   "id": "66ad9d63",
   "metadata": {},
   "outputs": [],
   "source": [
    "Counter(sprachtags)"
   ]
  },
  {
   "cell_type": "markdown",
   "id": "7e329913",
   "metadata": {},
   "source": [
    "Die `.most_common()`-Methode wandelt ein Counter-Objekt in eine nach Häufigkeit geordnete Liste um."
   ]
  },
  {
   "cell_type": "code",
   "execution_count": null,
   "id": "c4d48ce4",
   "metadata": {},
   "outputs": [],
   "source": [
    "Counter(sprachtags).most_common()"
   ]
  },
  {
   "cell_type": "markdown",
   "id": "26daa7c4",
   "metadata": {},
   "source": [
    "Beispiel: Zählen wir alle `actorID`-Werte"
   ]
  },
  {
   "cell_type": "code",
   "execution_count": null,
   "id": "e0042320",
   "metadata": {},
   "outputs": [],
   "source": [
    "actorName = tree.xpath('//lido:actor//lido:actorID/text()', namespaces = {'lido' : 'http://www.lido-schema.org'})\n",
    "Counter(actorName).most_common()"
   ]
  },
  {
   "cell_type": "code",
   "execution_count": null,
   "id": "7ac0f7d5",
   "metadata": {},
   "outputs": [],
   "source": [
    "for i in tree.xpath('//lido:actor', namespaces = {'lido' : 'http://www.lido-schema.org'}):\n",
    "    print(len(i.xpath('.//lido:appellationValue', namespaces = {'lido' : 'http://www.lido-schema.org'})))\n",
    "    print(len(i.xpath('.//lido:actorID', namespaces = {'lido' : 'http://www.lido-schema.org'})))"
   ]
  },
  {
   "cell_type": "code",
   "execution_count": null,
   "id": "674255dc",
   "metadata": {},
   "outputs": [],
   "source": [
    "for i in tree.xpath('.//lido:actor//lido:appellationValue', namespaces = {'lido' : 'http://www.lido-schema.org'}):\n",
    "    print(i.xpath('not(../../lido:actorID)', namespaces = {'lido' : 'http://www.lido-schema.org'}))"
   ]
  },
  {
   "cell_type": "code",
   "execution_count": null,
   "id": "449e6387",
   "metadata": {},
   "outputs": [],
   "source": []
  }
 ],
 "metadata": {
  "kernelspec": {
   "display_name": "Python 3.9",
   "language": "python",
   "name": "python3.9"
  },
  "language_info": {
   "codemirror_mode": {
    "name": "ipython",
    "version": 3
   },
   "file_extension": ".py",
   "mimetype": "text/x-python",
   "name": "python",
   "nbconvert_exporter": "python",
   "pygments_lexer": "ipython3",
   "version": "3.9.0"
  }
 },
 "nbformat": 4,
 "nbformat_minor": 5
}
