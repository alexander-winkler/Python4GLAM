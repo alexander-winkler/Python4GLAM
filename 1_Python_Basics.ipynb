{
 "cells": [
  {
   "cell_type": "markdown",
   "id": "b56a7e79",
   "metadata": {},
   "source": [
    "# Python-Basics\n",
    "\n",
    "## Allgemeines\n",
    "\n",
    "Python ist eine der verbreitetsten Programmiersprachen und findet insbesondere im Bereich der Datenanalyse Anwendung.\n",
    "\n",
    "Sie können Python-Programmcode direkt interaktiv im [*Python Interpreter*](https://docs.python.org/3/tutorial/interpreter.html) ausführen.\n",
    "\n",
    "![Python Interpreter](img/pythonInterpreter.gif \"segment\")\n",
    "\n",
    "Alternativ kann der Programmcode in einem Script (mit der üblichen Endung `*.py`) abgespeichert und dann in der Shell bzw. Eingabeaufforderung ausgeführt werden.\n",
    "\n",
    "```\n",
    "python3.10 beispiel.py\n",
    "```\n",
    "\n",
    "In diesem Workshop wird [Jupyter-Notebook](https://jupyter.org/) verwendet, das die Interaktivität der Interpreters und die Übersichtlichkeit und Bearbeitbarkeit des Skripts in sich vereint.\n",
    "\n",
    "Jupyter-Notebook erlaubt die interaktive Ausführung von Code-Schnipsel im Browser."
   ]
  },
  {
   "cell_type": "markdown",
   "id": "65b9e7d9",
   "metadata": {},
   "source": [
    "## Hallo world!\n",
    "\n",
    "Führen wir den ersten Code-Schnipsel aus! \n",
    "Stellen Sie sicher, dass ein Jupyter-Kernel läuft.\n",
    "\n",
    "Wählen Sie die folgenden Zelle aus und klicken Sie entweder oben auf \"Run\" (alternativ können Sie auch Umschalt + Enter drücken).\n",
    "\n",
    "![Run](img/runSnippet.png)"
   ]
  },
  {
   "cell_type": "code",
   "execution_count": 2,
   "id": "1192ede6",
   "metadata": {},
   "outputs": [
    {
     "name": "stdout",
     "output_type": "stream",
     "text": [
      "Hallo world!\n"
     ]
    }
   ],
   "source": [
    "print(\"Hallo world!\")"
   ]
  },
  {
   "cell_type": "markdown",
   "id": "d505235d",
   "metadata": {},
   "source": [
    "In der Ausgabe sollte nun die Zeichenfolge \"Hallo world!\" erscheinen.\n",
    "Sie haben nun eine einfach Python-Funktion ausgeführt.\n",
    "\n",
    "Die Funktion `print()` gibt das Argument (die Zeichenfolge `\"Hallo world!\"`) in Klammern aus."
   ]
  },
  {
   "cell_type": "markdown",
   "id": "aaaab290",
   "metadata": {},
   "source": [
    "## Einfache Datentypen\n",
    "\n",
    "Soeben wurde mir `\"Hallo world!\"` eine Zeichenfolge verwendet. Dieser Datentyp heißt `str`. Strings stehen in einfachen oder doppelten Anführungszeichen.\n",
    "\n",
    "Python kennt weitere - einfache - Datentypen:\n",
    "\n",
    "- ganze Zahlen (*integer*, `int`, Bsp.: `5`)\n",
    "- Gleitkommazahlen (*float*, `float`, Bsp.: `3.9`)\n",
    "- Boolesche Werte (*boolean*, `bool`, Bsp.: `True`)\n",
    "\n",
    "Die Funktion `type()` gibt den jeweiligen Datentype des Arguments zurück, z.B."
   ]
  },
  {
   "cell_type": "code",
   "execution_count": 5,
   "id": "69bc60c1",
   "metadata": {},
   "outputs": [
    {
     "data": {
      "text/plain": [
       "float"
      ]
     },
     "execution_count": 5,
     "metadata": {},
     "output_type": "execute_result"
    }
   ],
   "source": [
    "type(1.9)"
   ]
  },
  {
   "cell_type": "markdown",
   "id": "d20914a8",
   "metadata": {},
   "source": [
    "Probieren Sie gerne andere Argumente (z.B. `\"Ich lerne Python.\", -5, 19.5, False`) aus.\n",
    "\n",
    "`type(...)`"
   ]
  },
  {
   "cell_type": "markdown",
   "id": "9c15af98",
   "metadata": {},
   "source": [
    "## Variablen\n",
    "\n",
    "Variablen können in Python dynamisch verschiedenste Inhalte speichern und sind zentrale Hilfsmittel bei der Programmierung.\n",
    "\n",
    "Variablennamen bestehen aus alphanumerischen Zeichen (A-Z, a-z, 0-9, \\_) und müssen mit einem Buchstaben oder '\\_' beginnen).\n",
    "\n",
    "Variablen werden einfach mit dem `=`-Operator definiert, z.B. wird mit folgendem Ausdruck der Variable mit dem Namen `beispielvariable` der Gleitkommawert `4.1` zugewiesen.\n",
    "\n",
    "`beispielvariable = 4.1`"
   ]
  },
  {
   "cell_type": "code",
   "execution_count": 7,
   "id": "3f44fec4",
   "metadata": {},
   "outputs": [],
   "source": [
    "beispielvariable = 4.1"
   ]
  },
  {
   "cell_type": "markdown",
   "id": "21424a69",
   "metadata": {},
   "source": [
    "Der Wert kann mit der `print()`-Funktion ausgegeben werden."
   ]
  },
  {
   "cell_type": "code",
   "execution_count": 8,
   "id": "3e61e107",
   "metadata": {},
   "outputs": [
    {
     "name": "stdout",
     "output_type": "stream",
     "text": [
      "4.1\n"
     ]
    }
   ],
   "source": [
    "print(beispielvariable)"
   ]
  },
  {
   "cell_type": "markdown",
   "id": "bc3ddf5e",
   "metadata": {},
   "source": [
    "Die Variable kann überschrieben werden."
   ]
  },
  {
   "cell_type": "code",
   "execution_count": 10,
   "id": "8ed1f6d8",
   "metadata": {},
   "outputs": [
    {
     "name": "stdout",
     "output_type": "stream",
     "text": [
      "neuer Wert\n"
     ]
    }
   ],
   "source": [
    "beispielvariable = \"neuer Wert\"\n",
    "print(beispielvariable)"
   ]
  },
  {
   "cell_type": "markdown",
   "id": "c4b6f75a",
   "metadata": {},
   "source": [
    "## Komplexe Datentypen\n",
    "\n",
    "Python stellt Datentypen bereit, die mehrere Objekte aufnehmen können. \n",
    "\n",
    "### Listen\n",
    "\n",
    "Am häufigsten verwendet sind Listen, die eine beliebige Zahl von Objekten in einer bestimmten Reihenfolge abspeichern. Objekte in Listen werden durch Komma getrennt und stehen zwischen eckigen Klammern."
   ]
  },
  {
   "cell_type": "code",
   "execution_count": 11,
   "id": "22811fbb",
   "metadata": {},
   "outputs": [],
   "source": [
    "meineListe = [\"ein Wort\", 1.5, True, \"noch ein Wort\", 2, 3, 1]"
   ]
  },
  {
   "cell_type": "code",
   "execution_count": 12,
   "id": "28d52620",
   "metadata": {},
   "outputs": [
    {
     "data": {
      "text/plain": [
       "['ein Wort', 1.5, True, 'noch ein Wort', 2, 3, 1]"
      ]
     },
     "execution_count": 12,
     "metadata": {},
     "output_type": "execute_result"
    }
   ],
   "source": [
    "meineListe"
   ]
  },
  {
   "cell_type": "markdown",
   "id": "b23be8f2",
   "metadata": {},
   "source": [
    "Auf ein Element der Liste können Sie über den Index zugreifen. Das erste Objekt der Liste hat den Index 0, das zweite den Index 1 usw."
   ]
  },
  {
   "cell_type": "code",
   "execution_count": 14,
   "id": "75c99442",
   "metadata": {},
   "outputs": [
    {
     "name": "stdout",
     "output_type": "stream",
     "text": [
      "1.5\n"
     ]
    }
   ],
   "source": [
    "print(meineListe[1])"
   ]
  },
  {
   "cell_type": "markdown",
   "id": "ed2f9f0d",
   "metadata": {},
   "source": [
    "Auch Listenbereiche können durch Angabe einer Index-Range (in eckigen Klammern) ausgewählt werden. Folgender Ausdruck weist die Objekte mit Index 3 bis 4 einer neuen Variable zu. Die zweite Wert der Range ist also **exklusiv** zu verstehen."
   ]
  },
  {
   "cell_type": "code",
   "execution_count": 37,
   "id": "18c28984",
   "metadata": {},
   "outputs": [
    {
     "name": "stdout",
     "output_type": "stream",
     "text": [
      "['noch ein Wort', 2]\n"
     ]
    }
   ],
   "source": [
    "teilListe = meineListe[3:5]\n",
    "print(teilListe)"
   ]
  },
  {
   "cell_type": "markdown",
   "id": "77f40afe",
   "metadata": {},
   "source": [
    "Probieren Sie gerne auch andere Ranges aus. Verwenden Sie gerne auch negative Werte."
   ]
  },
  {
   "cell_type": "code",
   "execution_count": 46,
   "id": "ddc1a672",
   "metadata": {},
   "outputs": [
    {
     "name": "stdout",
     "output_type": "stream",
     "text": [
      "['noch ein Wort', 2, 3]\n"
     ]
    }
   ],
   "source": [
    "print(meineListe[3:-1])"
   ]
  },
  {
   "cell_type": "markdown",
   "id": "bb91898b",
   "metadata": {},
   "source": [
    "Die Länge von Listen gibt die Funktion `len()` zurück."
   ]
  },
  {
   "cell_type": "code",
   "execution_count": 47,
   "id": "d2ee9b34",
   "metadata": {},
   "outputs": [
    {
     "name": "stdout",
     "output_type": "stream",
     "text": [
      "7\n"
     ]
    }
   ],
   "source": [
    "print(len(meineListe))"
   ]
  },
  {
   "cell_type": "markdown",
   "id": "3fa3a0b7",
   "metadata": {},
   "source": [
    "### Dictionaries\n",
    "\n",
    "Eine weiterer wichtiger komplexer Datentyp ist das Dictionary, eine Sammlung von Key-Value-Paaren. In einem Dictionary werden die einzelnen Objekten also nicht über einen Index, sondern über einen key (i.d.R. ein alphanumerischer String oder eine Zahl) angesprochen. Dictionary werden mit geschweiften Klammern definiert. Keys und Values werden durch Doppelpunkt getrennt."
   ]
  },
  {
   "cell_type": "code",
   "execution_count": 24,
   "id": "7ea6dab1",
   "metadata": {},
   "outputs": [],
   "source": [
    "meinWörterbuch = { \n",
    "    'creator' : 'van Gogh',\n",
    "    'year' : 1901,\n",
    "    'contributors' : [ \"a\", \"b\", \"c\" ],\n",
    "    'average' : 1.9\n",
    "}"
   ]
  },
  {
   "cell_type": "markdown",
   "id": "3902f24a",
   "metadata": {},
   "source": [
    "Ein bestimmter Wert kann über den Key ausgegeben werden."
   ]
  },
  {
   "cell_type": "code",
   "execution_count": 25,
   "id": "bdb450b4",
   "metadata": {},
   "outputs": [
    {
     "data": {
      "text/plain": [
       "'van Gogh'"
      ]
     },
     "execution_count": 25,
     "metadata": {},
     "output_type": "execute_result"
    }
   ],
   "source": [
    "meinWörterbuch['creator']"
   ]
  },
  {
   "cell_type": "markdown",
   "id": "2157ea35",
   "metadata": {},
   "source": [
    "Alternativ steht mit `.get()` auch eine sog. Methode zur Verfügung. `meinWörterbuch.get('creator')` liefert also dasselbe Ergebnis wie der obige Ausdruck."
   ]
  },
  {
   "cell_type": "code",
   "execution_count": 27,
   "id": "770bcfe9",
   "metadata": {},
   "outputs": [
    {
     "data": {
      "text/plain": [
       "'van Gogh'"
      ]
     },
     "execution_count": 27,
     "metadata": {},
     "output_type": "execute_result"
    }
   ],
   "source": [
    "meinWörterbuch.get('creator')"
   ]
  },
  {
   "cell_type": "markdown",
   "id": "4af0c288",
   "metadata": {},
   "source": [
    "Der Vorteil der `.get()`-Methode liegt darin, dass ein leerer Wert (`None`) zurückgegeben wird, wenn der Key nicht im Dictionary vorhanden ist.\n",
    "Der Zugriff über die Notation mit eckigen Klammern führt hingegen zu einem Fehler (einen sog. `KeyError`), der Ihr Programm im Zweifel zum Abbruch bringen kann.\n",
    "\n",
    "Probieren Sie es aus!"
   ]
  },
  {
   "cell_type": "code",
   "execution_count": 33,
   "id": "7b83807d",
   "metadata": {},
   "outputs": [
    {
     "ename": "KeyError",
     "evalue": "'falscherKey'",
     "output_type": "error",
     "traceback": [
      "\u001b[0;31m---------------------------------------------------------------------------\u001b[0m",
      "\u001b[0;31mKeyError\u001b[0m                                  Traceback (most recent call last)",
      "\u001b[0;32m/tmp/ipykernel_24738/4163626786.py\u001b[0m in \u001b[0;36m<module>\u001b[0;34m\u001b[0m\n\u001b[0;32m----> 1\u001b[0;31m \u001b[0mmeinWörterbuch\u001b[0m\u001b[0;34m[\u001b[0m\u001b[0;34m'falscherKey'\u001b[0m\u001b[0;34m]\u001b[0m\u001b[0;34m\u001b[0m\u001b[0;34m\u001b[0m\u001b[0m\n\u001b[0m",
      "\u001b[0;31mKeyError\u001b[0m: 'falscherKey'"
     ]
    }
   ],
   "source": [
    "meinWörterbuch['falscherKey']"
   ]
  },
  {
   "cell_type": "code",
   "execution_count": 34,
   "id": "e67bbdca",
   "metadata": {},
   "outputs": [],
   "source": [
    "meinWörterbuch.get('falscherKey')"
   ]
  },
  {
   "cell_type": "markdown",
   "id": "55702538",
   "metadata": {},
   "source": [
    "Die `.get()`-Methode kennt auch ein zweites Argument, das den Rückgabewert definiert, falls der Key nicht enthalten ist."
   ]
  },
  {
   "cell_type": "code",
   "execution_count": 35,
   "id": "b17cceb9",
   "metadata": {},
   "outputs": [
    {
     "data": {
      "text/plain": [
       "'der Key ist nicht definiert'"
      ]
     },
     "execution_count": 35,
     "metadata": {},
     "output_type": "execute_result"
    }
   ],
   "source": [
    "meinWörterbuch.get('falscherKey', 'der Key ist nicht definiert')"
   ]
  },
  {
   "cell_type": "markdown",
   "id": "187cee57",
   "metadata": {},
   "source": [
    "## `for`-Schleifen\n",
    "\n",
    "Über Listen kann in einer `for`-Schleife iteriert werden.\n",
    "Dabei wird für jedes Element einer Liste eine bestimmte Aktion durchgeführt.\n",
    "\n",
    "Folgende Schleife gibt z.B. jedes Element der oben definierten Liste `meineListe` aus:"
   ]
  },
  {
   "cell_type": "code",
   "execution_count": 48,
   "id": "40467beb",
   "metadata": {},
   "outputs": [
    {
     "name": "stdout",
     "output_type": "stream",
     "text": [
      "ein Wort\n",
      "1.5\n",
      "True\n",
      "noch ein Wort\n",
      "2\n",
      "3\n",
      "1\n"
     ]
    }
   ],
   "source": [
    "for x in meineListe:\n",
    "    print(x)"
   ]
  },
  {
   "cell_type": "markdown",
   "id": "17193d93",
   "metadata": {},
   "source": [
    "## Bedingungen\n",
    "\n",
    "Zur Steuerung von Programmabläufen sind `if`-Statements wichtig.\n",
    "Im `if`-Satz wird eine Bedingung formuliert, die gegeben sein muss, dass eine bestimmte Aktion ausgeführt wird.\n",
    "\n",
    "Im folgenden Code-Schnipsel wird überprüft, ob `meineListe` den Datentype `list` hat.\n",
    "Beachten Sie, dass bei Vergleichsoperationen ein doppeltes Gleichheitszeichen `==` verwendet wird."
   ]
  },
  {
   "cell_type": "code",
   "execution_count": 51,
   "id": "098b1506",
   "metadata": {},
   "outputs": [
    {
     "name": "stdout",
     "output_type": "stream",
     "text": [
      "meineListe ist eine Liste!\n"
     ]
    }
   ],
   "source": [
    "if type(meineListe) == list:\n",
    "    print(\"meineListe ist eine Liste!\")"
   ]
  },
  {
   "cell_type": "markdown",
   "id": "319359c0",
   "metadata": {},
   "source": [
    "Mit `else` kann eine Aktion bestimmt werden, die ausgeführt wird, wenn die Bedingung im `if`-Satz nicht zutrifft."
   ]
  },
  {
   "cell_type": "code",
   "execution_count": 53,
   "id": "bb86e094",
   "metadata": {},
   "outputs": [
    {
     "name": "stdout",
     "output_type": "stream",
     "text": [
      "meineListe ist KEIN String!\n"
     ]
    }
   ],
   "source": [
    "if type(meineListe) == str:\n",
    "    print(\"meineListe ist ein String!\")\n",
    "else:\n",
    "    print(\"meineListe ist KEIN String!\")"
   ]
  },
  {
   "cell_type": "markdown",
   "id": "804d1599",
   "metadata": {},
   "source": [
    "## Modulimport\n",
    "\n",
    "Einige Basisfunktionen (die sog. [*built-ins*](https://docs.python.org/3/library/functions.html)) stehen in Python standardmäßig zur Verfügung.\n",
    "\n",
    "Andere Module müssen vor der Verwendung importiert werden.\n",
    "Hierfür dient das `import`-Statement.\n",
    "\n",
    "Module, die nicht der [Python-Standard-Library](https://docs.python.org/3/library/) zugehören, müssen über den Paketmanager [`pip`](https://realpython.com/what-is-pip/#installing-packages-with-pip) heruntergeladen und installiert werden.\n",
    "\n",
    "Das [`requests`-Modul](https://requests.readthedocs.io/en/latest/), mit dem HTTP-Anfragen durchgeführt werden können, wird also folgendermaßen importiert:"
   ]
  },
  {
   "cell_type": "code",
   "execution_count": 54,
   "id": "6cbd94de",
   "metadata": {},
   "outputs": [],
   "source": [
    "import requests"
   ]
  }
 ],
 "metadata": {
  "kernelspec": {
   "display_name": "Python 3.9",
   "language": "python",
   "name": "python3.9"
  },
  "language_info": {
   "codemirror_mode": {
    "name": "ipython",
    "version": 3
   },
   "file_extension": ".py",
   "mimetype": "text/x-python",
   "name": "python",
   "nbconvert_exporter": "python",
   "pygments_lexer": "ipython3",
   "version": "3.9.0"
  }
 },
 "nbformat": 4,
 "nbformat_minor": 5
}
